{
 "cells": [
  {
   "cell_type": "code",
   "execution_count": 10,
   "id": "881055bd",
   "metadata": {},
   "outputs": [],
   "source": [
    "import numpy as np\n",
    "import pandas as pd\n",
    "from keras.models import Sequential \n",
    "from keras.layers import Dense"
   ]
  },
  {
   "cell_type": "code",
   "execution_count": 22,
   "id": "4abea253",
   "metadata": {},
   "outputs": [
    {
     "name": "stdout",
     "output_type": "stream",
     "text": [
      "Next optimal move:  None\n"
     ]
    }
   ],
   "source": [
    "df = pd.read_csv(\"game_data.csv\")\n",
    "def minimax(board, depth, is_maximizing):\n",
    "    pass\n",
    "game_state = df.iloc[-1, :-1].values\n",
    "next_move = minimax(game_state, depth=3, is_maximizing=True)\n",
    "print(\"Next optimal move: \", next_move)"
   ]
  },
  {
   "cell_type": "code",
   "execution_count": 18,
   "id": "9816db67",
   "metadata": {},
   "outputs": [
    {
     "name": "stdout",
     "output_type": "stream",
     "text": [
      "\u001b[H\u001b[2J"
     ]
    }
   ],
   "source": []
  },
  {
   "cell_type": "code",
   "execution_count": null,
   "id": "1472e874",
   "metadata": {},
   "outputs": [],
   "source": []
  }
 ],
 "metadata": {
  "kernelspec": {
   "display_name": "Python 3 (ipykernel)",
   "language": "python",
   "name": "python3"
  },
  "language_info": {
   "codemirror_mode": {
    "name": "ipython",
    "version": 3
   },
   "file_extension": ".py",
   "mimetype": "text/x-python",
   "name": "python",
   "nbconvert_exporter": "python",
   "pygments_lexer": "ipython3",
   "version": "3.10.12"
  }
 },
 "nbformat": 4,
 "nbformat_minor": 5
}
